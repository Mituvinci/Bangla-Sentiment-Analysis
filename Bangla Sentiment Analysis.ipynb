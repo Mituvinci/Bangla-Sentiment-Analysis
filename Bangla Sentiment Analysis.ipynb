{
 "cells": [
  {
   "cell_type": "code",
   "execution_count": 1,
   "metadata": {},
   "outputs": [
    {
     "name": "stdout",
     "output_type": "stream",
     "text": [
      "Enter text: আমার দেশের নাম বাংলাদেশ। দেশটি ছোট হলেও অনেক জনসংখ্যা রয়েছে। ছোট এই দেশটি দেখতে অনেক সুন্দর\n",
      "Sentence [1] = আমার দেশের নাম বাংলাদেশ\n",
      "Sentence [2] =  দেশটি ছোট হলেও অনেক জনসংখ্যা রয়েছে\n",
      "Sentence [3] =  ছোট এই দেশটি দেখতে অনেক সুন্দর\n",
      "\n",
      "Words of Sentence [1] = আমার, দেশের, নাম, বাংলাদেশ, \n",
      "Words of Sentence [2] = দেশটি, ছোট, হলেও, অনেক, জনসংখ্যা, রয়েছে, \n",
      "Words of Sentence [3] = ছোট, এই, দেশটি, দেখতে, অনেক, সুন্দর, \n",
      "\n",
      "Polarity of Sentence [1] = 0.0\t\t(It's Neutral)\n",
      "Polarity of Sentence [2] = -0.25\t\t(Negative sentence)\n",
      "Polarity of Sentence [3] = 0.375\t\t(Positive sentence)\n"
     ]
    }
   ],
   "source": [
    "import nltk\n",
    "from textblob import TextBlob\n",
    "from googletrans import Translator\n",
    "translator = Translator()\n",
    "\n",
    "text = input(\"Enter text: \")\n",
    "\n",
    "sentence = text.split('।')\n",
    "\n",
    "en_sent = translator.translate(text).text\n",
    "en_split = en_sent.split('.')\n",
    "\n",
    "for i, val in enumerate(sentence):\n",
    "    print(\"Sentence [\" + str(i+1) + \"] = \" + val)\n",
    "\n",
    "for i, val in enumerate(sentence):\n",
    "    token = nltk.word_tokenize(val)\n",
    "    print(\"\\nWords of Sentence [\" + str(i+1) + \"] = \", end=\"\")\n",
    "    for j in token:\n",
    "        print(j + \", \", end=\"\")\n",
    "\n",
    "print(\"\\n\")\n",
    "\n",
    "for i, val in enumerate(en_split):\n",
    "    tb = TextBlob(val)\n",
    "    print(\"Polarity of Sentence [\" + str(i+1) + \"] = \", end=\"\")\n",
    "    sentiment = tb.sentiment.polarity\n",
    "    print(sentiment, end=\"\")\n",
    "\n",
    "    if (sentiment > 0):\n",
    "        print(\"\\t\\t(Positive sentence)\")\n",
    "\n",
    "    elif (sentiment < 0):\n",
    "        print(\"\\t\\t(Negative sentence)\")\n",
    "\n",
    "    else:\n",
    "        print(\"\\t\\t(It\\'s Neutral)\")\n"
   ]
  },
  {
   "cell_type": "code",
   "execution_count": null,
   "metadata": {},
   "outputs": [],
   "source": []
  }
 ],
 "metadata": {
  "kernelspec": {
   "display_name": "Python 3",
   "language": "python",
   "name": "python3"
  },
  "language_info": {
   "codemirror_mode": {
    "name": "ipython",
    "version": 3
   },
   "file_extension": ".py",
   "mimetype": "text/x-python",
   "name": "python",
   "nbconvert_exporter": "python",
   "pygments_lexer": "ipython3",
   "version": "3.5.2"
  }
 },
 "nbformat": 4,
 "nbformat_minor": 2
}
